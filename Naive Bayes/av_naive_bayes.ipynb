{
 "cells": [
  {
   "cell_type": "code",
   "execution_count": 1,
   "metadata": {},
   "outputs": [],
   "source": [
    "# importing needed libraries for the naive bayes implementation based on methods used from sklearn\n",
    "import pandas as pd\n",
    "import numpy as np\n",
    "import matplotlib.pyplot as plt\n",
    "import seaborn as sns\n",
    "from sklearn.model_selection import train_test_split, KFold, cross_val_score\n",
    "from sklearn.metrics import confusion_matrix, precision_score, ConfusionMatrixDisplay"
   ]
  },
  {
   "cell_type": "code",
   "execution_count": 2,
   "metadata": {},
   "outputs": [],
   "source": [
    "# reading the datafile in as a pandas dataframe\n",
    "data2 = pd.read_csv(\"emails_copy.csv\")\n",
    "\n",
    "# for my implementation, I had to convert the dataframe to a numpy ndarray, as the pandas dataframe \n",
    "# originally has a header that would cause problems, I attempted to read the csv with header = none,\n",
    "# but this just removed the names associated with the columns and not the header itself.\n",
    "inputDf2 = data2.to_numpy()\n",
    "\n",
    "# I saved the column containing the labels to a variable to use as my class labels\n",
    "lableData2 = inputDf2[:,-1]\n",
    "\n",
    "# I removed the first column containing the numbers of the email(ex. \"Email 1, Email 2, ... Email n\") \n",
    "# which was not needed and the last column containing the labels, which were previously saved to a \n",
    "# variable\n",
    "inputDf2 = np.delete(inputDf2, 0, axis=1)\n",
    "inputDf2 = np.delete(inputDf2, -1, axis=1)\n",
    "\n",
    "# Converted the whole data frame from int values to float values, this was because there were issues\n",
    "# with one of the numpy functions requiring a float\n",
    "inputDf2.astype(np.float64)\n",
    "\n",
    "# Last modification to the dataset was adding 1 or 2 to every row. This dataset contained a lot of 0\n",
    "# values for features included in the entries. Originally I had accounted for this by adding 1 to \n",
    "# the whole dataset, which was fine when using the \"off-the-shelf\" implementation, but for my naive\n",
    "# bayes using the gaussian probabilty density function it created variance values of 0 which caused\n",
    "# issues when calculating the posteriors. To make the variance non-zero I added alternating 1's \n",
    "# and 2's which fixed for zero-frequency and was small enough to not affect the results.\n",
    "for i in range(3000):\n",
    "    if i % 2 == 0:\n",
    "        inputDf2[i] += 2\n",
    "    else:\n",
    "        inputDf2[i] += 1\n",
    "\n"
   ]
  },
  {
   "cell_type": "code",
   "execution_count": 3,
   "metadata": {},
   "outputs": [],
   "source": [
    "# Using the sklearn.modelselection module to split the data for me\n",
    "X_train2, X_test2, y_train2, y_test2 = train_test_split(inputDf2, lableData2, test_size=0.25, random_state=9)"
   ]
  },
  {
   "cell_type": "code",
   "execution_count": 4,
   "metadata": {},
   "outputs": [],
   "source": [
    "# Created a function to fit the model\n",
    "def fit(trainFeatures, trainLabels):\n",
    "    # Getting needed values from dataset including counting the # samples, # features, # classes\n",
    "    # and create a list of classes\n",
    "    nSamples, nFeatures = trainFeatures.shape\n",
    "    listOfClasses = np.unique(trainLabels)\n",
    "    nClasses = len(listOfClasses)\n",
    "\n",
    "    # Using np.zeros to create empty ndarrys to hold the values for the means, variance and \n",
    "    # priors of each feature in the dataset \n",
    "    means = np.zeros((nClasses, nFeatures), dtype=np.float64)\n",
    "    vars = np.zeros((nClasses, nFeatures), dtype=np.float64)\n",
    "    priors = np.zeros(nClasses, dtype=np.float64)\n",
    "\n",
    "    # many references break up finding the values above so I followed the same format, because\n",
    "    # we have a ndarry I could use np.mean/var with axis=0 to apply the function along the column\n",
    "    # calculating the priors for the classes was simple as well, when creating the later predict\n",
    "    # function I added the return values so that i could call this fit function from within the\n",
    "    # next function.\n",
    "    for ind, classes in enumerate(listOfClasses):\n",
    "        C = trainFeatures[trainLabels == classes]\n",
    "        means[ind, :] = C.mean(axis=0)\n",
    "        vars[ind, :] = C.var(axis=0)\n",
    "        priors[ind] = (C.shape[0] / float(nSamples))\n",
    "    return(means, vars, priors)"
   ]
  },
  {
   "cell_type": "code",
   "execution_count": 5,
   "metadata": {},
   "outputs": [],
   "source": [
    "def fitMN(trainFeatures, trainLabels):\n",
    "    # computing priors\n",
    "    nSamples, nFeatures = trainFeatures.shape\n",
    "    listOfClasses = np.unique(trainLabels)\n",
    "    nClasses = len(listOfClasses)\n",
    "    \n",
    "    # creating ndarrays exactly how i did for the gaussian distribution but only needed two for the priors and likelyhoods\n",
    "    priors = np.zeros(nClasses, dtype=np.float64)\n",
    "    likelyhood = np.zeros((nClasses, nFeatures), dtype=np.float64)\n",
    "    a = 1\n",
    "\n",
    "    for ind, classes in enumerate(listOfClasses):\n",
    "        C = trainFeatures[trainLabels == classes]\n",
    "        # finding the posterial probably \n",
    "        #likelyhood[ind, :] = (trainFeatures.sum(axis=0) + a) / (tempsum + a)\n",
    "        likelyhood[ind, :] = (C.sum(axis=0) + a) / (np.sum(C.sum(axis=0)) + a)\n",
    "        priors[ind] = (C.shape[0] / float(nSamples))\n",
    "    return(likelyhood, priors)"
   ]
  },
  {
   "cell_type": "code",
   "execution_count": 6,
   "metadata": {},
   "outputs": [],
   "source": [
    "def predict(trainFeatures, trainLabels, testFeatures):\n",
    "    # Calling my fit function and getting a list of the classes\n",
    "    means, vars, priors = fit(trainFeatures, trainLabels)\n",
    "    listOfClasses = np.unique(trainLabels)\n",
    "\n",
    "    def pdf_gaus (index, x):\n",
    "        mean = means[index]\n",
    "        var = vars[index]\n",
    "     \n",
    "        # had a lot of issues with this part of my implementation, the formula for the guassian \n",
    "        # density function, I fixed the issue with having columns with 0 variance early on, \n",
    "        # this caused the right side of the PDF to have a denominator = 0 for some values which\n",
    "        # caused erros. Once this was fixed, the np.exp function required datatypes of float,\n",
    "        # even though I converted the values of the ndarray to float when I imported the data\n",
    "        # set, I found the only way to get around this was to convert the value being passed\n",
    "        # to np.exp astype np.float64\n",
    "        return (1 / np.sqrt(2 * np.pi * var)) * (np.exp((-((x - mean) ** 2) / (2 * var)).astype(np.float64)))\n",
    "\n",
    "    def pred (x):\n",
    "        posteriors = []\n",
    "        for ind, classes in enumerate(listOfClasses):\n",
    "            # Using the enumerate on the value returned by np.unique allowed me to iterate for each class,\n",
    "            # in my case it was only two (0,1), but because we used the unique call, this had the side \n",
    "            # effect of extending to more classes although this was not tested, should not have any issues. \n",
    "            # calculating priors based on classes [0,1]\n",
    "            prior = np.log(priors[ind])\n",
    "            posterior = np.sum(np.log(pdf_gaus(ind, x)))\n",
    "            # calculating the posterior likelyhood P(c|Xi)\n",
    "            posterior = posterior + prior\n",
    "            posteriors.append(posterior)\n",
    "        return(listOfClasses[np.argmax(posteriors)])\n",
    "\n",
    "    yPredictions = [pred(x) for x in testFeatures]      \n",
    "    return np.array(yPredictions)"
   ]
  },
  {
   "cell_type": "code",
   "execution_count": 7,
   "metadata": {},
   "outputs": [],
   "source": [
    "def predictMN(trainFeatures, trainLabels, testFeatures):\n",
    "    likelihoods, priors = fitMN(trainFeatures, trainLabels)\n",
    "    listOfClasses = np.unique(trainLabels)\n",
    "\n",
    "    def likelihoodEst(l, x):\n",
    "        return np.log(l) * x\n",
    "    \n",
    "    def pred(x):\n",
    "        posteriors = []\n",
    "        for ind, c in enumerate(listOfClasses):\n",
    "            prior = np.log(priors[ind])\n",
    "            classLikelihood = likelihoodEst(likelihoods[ind,:], x)\n",
    "            postClass = np.sum(classLikelihood) + prior\n",
    "            posteriors.append(postClass)\n",
    "\n",
    "        return listOfClasses[np.argmax(posteriors)]\n",
    "    predictions = [pred(x) for x in testFeatures]\n",
    "\n",
    "    return np.array(predictions)"
   ]
  },
  {
   "cell_type": "code",
   "execution_count": 8,
   "metadata": {},
   "outputs": [
    {
     "name": "stderr",
     "output_type": "stream",
     "text": [
      "/var/folders/wh/svmnsqtn1mddnm136klzmggh0000gn/T/ipykernel_12655/3313821754.py:27: RuntimeWarning: divide by zero encountered in log\n",
      "  posterior = np.sum(np.log(pdf_gaus(ind, x)))\n"
     ]
    }
   ],
   "source": [
    "# Calling my predict functions, (it finally ran with no problems yay)\n",
    "gausPredicts = predict(X_train2, y_train2, X_test2)\n",
    "MNPredicts = predictMN(X_train2, y_train2, X_test2)"
   ]
  },
  {
   "cell_type": "code",
   "execution_count": 9,
   "metadata": {},
   "outputs": [],
   "source": [
    "def naiveBMetrics (yTrueValues, yPreds):\n",
    "    predPos = (yPreds == 1)\n",
    "    predNeg = (yPreds == 0)\n",
    "\n",
    "    testPos = (y_test2 == 1)\n",
    "    testNeg = (y_test2 == 0)\n",
    "\n",
    "    truePosIndex = np.where(yTrueValues == 1)\n",
    "    trueNegIndex = np.where(yTrueValues == 0)\n",
    "    TN = 0; TP = 0; FP = 0; FN = 0\n",
    "    \n",
    "    # Counting TP\n",
    "    for a in truePosIndex:\n",
    "        TP = np.sum(predPos[a])\n",
    "\n",
    "    # Counting TN\n",
    "    for b in trueNegIndex:\n",
    "        TN = np.sum(predNeg[b])\n",
    "\n",
    "    # Counting FP\n",
    "    for c in trueNegIndex:\n",
    "        FP = np.sum(predPos[c])\n",
    "\n",
    "    # Counting FN\n",
    "    for d in truePosIndex:\n",
    "        FN = np.sum(predNeg[d])\n",
    "        \n",
    "    prec = (TP / (TP + FP)) \n",
    "    rec = (TP / (TP + FN)) \n",
    "   \n",
    "    f1 = (2 * (prec * rec)) / (prec + rec)\n",
    "    \n",
    "    return ('True Pos:' , TP ,'True Neg:', TN ,'False Pos:' ,FP ,'False Neg:' ,FN ,'Precision:', prec ,'Recall:', rec,'F1 Score:', f1)"
   ]
  },
  {
   "cell_type": "code",
   "execution_count": 10,
   "metadata": {},
   "outputs": [],
   "source": [
    "gausMetrics = naiveBMetrics(y_test2, gausPredicts)\n",
    "MNmetrics = naiveBMetrics(y_test2, MNPredicts)"
   ]
  },
  {
   "cell_type": "code",
   "execution_count": 11,
   "metadata": {},
   "outputs": [
    {
     "name": "stdout",
     "output_type": "stream",
     "text": [
      "('True Pos:', 74, 'True Neg:', 875, 'False Pos:', 37, 'False Neg:', 307, 'Precision:', 0.6666666666666666, 'Recall:', 0.1942257217847769, 'F1 Score:', 0.30081300813008127)\n",
      "('True Pos:', 212, 'True Neg:', 478, 'False Pos:', 434, 'False Neg:', 169, 'Precision:', 0.3281733746130031, 'Recall:', 0.5564304461942258, 'F1 Score:', 0.41285296981499514)\n"
     ]
    }
   ],
   "source": [
    "print(gausMetrics)\n",
    "print(MNmetrics)"
   ]
  },
  {
   "cell_type": "markdown",
   "metadata": {},
   "source": [
    "AVERAGING PERFORMANCE OF MODELS"
   ]
  },
  {
   "cell_type": "code",
   "execution_count": 12,
   "metadata": {},
   "outputs": [],
   "source": [
    "# because I did not create a class that would allow me to use sklearn's cross validation functions, I ran my classifier \n",
    "# multiple times and took averages of the metrics, removed the random state so it would be random each time called and \n",
    "# lowered the test size to 20%\n",
    "xtrain1, xtest1, ytrain1, ytest1 = train_test_split(inputDf2, lableData2, test_size=0.20)\n",
    "xtrain2, xtest2, ytrain2, ytest2 = train_test_split(inputDf2, lableData2, test_size=0.20)\n",
    "xtrain3, xtest3, ytrain3, ytest3 = train_test_split(inputDf2, lableData2, test_size=0.20)\n",
    "xtrain4, xtest4, ytrain4, ytest4 = train_test_split(inputDf2, lableData2, test_size=0.20)\n",
    "xtrain5, xtest5, ytrain5, ytest5 = train_test_split(inputDf2, lableData2, test_size=0.20)"
   ]
  },
  {
   "cell_type": "code",
   "execution_count": 13,
   "metadata": {},
   "outputs": [
    {
     "name": "stderr",
     "output_type": "stream",
     "text": [
      "/var/folders/wh/svmnsqtn1mddnm136klzmggh0000gn/T/ipykernel_12655/3313821754.py:27: RuntimeWarning: divide by zero encountered in log\n",
      "  posterior = np.sum(np.log(pdf_gaus(ind, x)))\n"
     ]
    }
   ],
   "source": [
    "# Generating predictions based on the newly shuffled data for both the gausian/multinomial models\n",
    "gausPred1 = predict(xtrain1, ytrain1, xtest1)\n",
    "gausPred2 = predict(xtrain2, ytrain2, xtest2)\n",
    "gausPred3 = predict(xtrain3, ytrain3, xtest3)\n",
    "gausPred4 = predict(xtrain4, ytrain4, xtest4)\n",
    "gausPred5 = predict(xtrain5, ytrain5, xtest5)\n",
    "\n",
    "mnPred1 = predictMN(xtrain1, ytrain1, xtest1)\n",
    "mnPred2 = predictMN(xtrain2, ytrain2, xtest2)\n",
    "mnPred3 = predictMN(xtrain3, ytrain3, xtest3)\n",
    "mnPred4 = predictMN(xtrain4, ytrain4, xtest4)\n",
    "mnPred5 = predictMN(xtrain5, ytrain5, xtest5)\n"
   ]
  },
  {
   "cell_type": "code",
   "execution_count": 14,
   "metadata": {},
   "outputs": [],
   "source": [
    "# generating metrics based on my predictions on test data for both types of models\n",
    "gausAvgMetrics1 = naiveBMetrics(ytest1, gausPred1)\n",
    "gausAvgMetrics2 = naiveBMetrics(ytest2, gausPred2)\n",
    "gausAvgMetrics3 = naiveBMetrics(ytest3, gausPred3)\n",
    "gausAvgMetrics4 = naiveBMetrics(ytest4, gausPred4)\n",
    "gausAvgMetrics5 = naiveBMetrics(ytest5, gausPred5)\n",
    "\n",
    "mNAvgMetrics1 = naiveBMetrics(ytest1, mnPred1)\n",
    "mNAvgMetrics2 = naiveBMetrics(ytest2, mnPred2)\n",
    "mNAvgMetrics3 = naiveBMetrics(ytest3, mnPred3)\n",
    "mNAvgMetrics4 = naiveBMetrics(ytest4, mnPred4)\n",
    "mNAvgMetrics5 = naiveBMetrics(ytest5, mnPred5)"
   ]
  },
  {
   "cell_type": "code",
   "execution_count": 15,
   "metadata": {},
   "outputs": [
    {
     "name": "stdout",
     "output_type": "stream",
     "text": [
      "avg Gaussian NB Precision: 0.5406193139700336\n",
      "avg Gaussian NB Recall: 0.3972444513487609\n",
      "avg. Gaussian NB F1 score: 0.41185786191815155\n",
      "avg Gaussian Multinomial Precision: 0.31998514509212567\n",
      "avg Gaussian Multinomial Recall: 0.5639114788677977\n",
      "avg Gaussian Multinomial F1 Score: 0.4082144607718921\n"
     ]
    }
   ],
   "source": [
    "# average values of gaussian\n",
    "print(\"avg Gaussian NB Precision:\", ((gausAvgMetrics1[9] + gausAvgMetrics2[9] + gausAvgMetrics3[9] + gausAvgMetrics4[9] + gausAvgMetrics5[9]) / 5))\n",
    "print(\"avg Gaussian NB Recall:\", ((gausAvgMetrics1[11] + gausAvgMetrics2[11] + gausAvgMetrics3[11] + gausAvgMetrics4[11] + gausAvgMetrics5[11]) / 5))\n",
    "print(\"avg. Gaussian NB F1 score:\", ((gausAvgMetrics1[13] + gausAvgMetrics2[13] + gausAvgMetrics3[13] + gausAvgMetrics4[13] + gausAvgMetrics5[13]) / 5))\n",
    "\n",
    "# average values of multinomial\n",
    "print(\"avg Gaussian Multinomial Precision:\", ((mNAvgMetrics1[9] + mNAvgMetrics2[9] + mNAvgMetrics3[9] + mNAvgMetrics4[9] + mNAvgMetrics5[9]) / 5))\n",
    "print(\"avg Gaussian Multinomial Recall:\", ((mNAvgMetrics1[11] + mNAvgMetrics2[11] + mNAvgMetrics3[11] + mNAvgMetrics4[11] + mNAvgMetrics5[11]) / 5))\n",
    "print(\"avg Gaussian Multinomial F1 Score:\", ((mNAvgMetrics1[13] + mNAvgMetrics2[13] + mNAvgMetrics3[13] + mNAvgMetrics4[13] + mNAvgMetrics5[13]) / 5))"
   ]
  },
  {
   "cell_type": "markdown",
   "metadata": {},
   "source": [
    "Below I am generating the graphs used in my report with the generated data"
   ]
  },
  {
   "cell_type": "code",
   "execution_count": 17,
   "metadata": {},
   "outputs": [
    {
     "data": {
      "text/plain": [
       "<AxesSubplot:title={'center':'Distribution of counts of words in dataset'}, xlabel='Index', ylabel='Freuency'>"
      ]
     },
     "execution_count": 17,
     "metadata": {},
     "output_type": "execute_result"
    },
    {
     "data": {
      "image/png": "[encoded data removed]",
      "text/plain": [
       "<Figure size 432x288 with 1 Axes>"
      ]
     },
     "metadata": {
      "needs_background": "light"
     },
     "output_type": "display_data"
    }
   ],
   "source": [
    "# summing the counts of words to plot\n",
    "df2 = data2 \n",
    "histdata = df2.sum(axis=0)[1:]\n",
    "# creating a histogram of my dataset to see distribution of words\n",
    "histdata.plot(title=\"Distribution of counts of words in dataset\", xlabel=\"Index\", ylabel=\"Freuency\")\n"
   ]
  },
  {
   "cell_type": "code",
   "execution_count": 18,
   "metadata": {},
   "outputs": [
    {
     "name": "stdout",
     "output_type": "stream",
     "text": [
      "[0.31931166 0.32375479 0.32617188 0.31153846 0.31914894]\n"
     ]
    },
    {
     "data": {
      "image/png": "[encoded data removed]",
      "text/plain": [
       "<Figure size 432x288 with 1 Axes>"
      ]
     },
     "metadata": {
      "needs_background": "light"
     },
     "output_type": "display_data"
    }
   ],
   "source": [
    "# putting the values into arrays so that they can be input into a graph\n",
    "valuesForGausPrec = np.array([gausAvgMetrics1[9] , gausAvgMetrics2[9] , gausAvgMetrics3[9] ,gausAvgMetrics4[9] , gausAvgMetrics5[9]])\n",
    "valuesForMPrec = np.array([mNAvgMetrics1[9], mNAvgMetrics2[9],  mNAvgMetrics3[9],  mNAvgMetrics4[9],  mNAvgMetrics5[9]])\n",
    "sns.boxplot(y = valuesForGausPrec).set(title=\"Boxplot of Precision Scores for Gaussian Naive Bayes\")\n",
    "\n"
   ]
  },
  {
   "cell_type": "code",
   "execution_count": 19,
   "metadata": {},
   "outputs": [
    {
     "data": {
      "text/plain": [
       "[Text(0.5, 1.0, 'Boxplot of Precision Scores for Multinomial Naive Bayes')]"
      ]
     },
     "execution_count": 19,
     "metadata": {},
     "output_type": "execute_result"
    },
    {
     "data": {
      "image/png": "[encoded data removed]",
      "text/plain": [
       "<Figure size 432x288 with 1 Axes>"
      ]
     },
     "metadata": {
      "needs_background": "light"
     },
     "output_type": "display_data"
    }
   ],
   "source": [
    "sns.boxplot(y = valuesForMPrec).set(title=\"Boxplot of Precision Scores for Multinomial Naive Bayes\")"
   ]
  },
  {
   "cell_type": "code",
   "execution_count": 20,
   "metadata": {},
   "outputs": [
    {
     "data": {
      "text/plain": [
       "[Text(0.5, 1.0, 'Boxplot of F1 Scores for Gaussian Naive Bayes')]"
      ]
     },
     "execution_count": 20,
     "metadata": {},
     "output_type": "execute_result"
    },
    {
     "data": {
      "image/png": "[encoded data removed]",
      "text/plain": [
       "<Figure size 432x288 with 1 Axes>"
      ]
     },
     "metadata": {
      "needs_background": "light"
     },
     "output_type": "display_data"
    }
   ],
   "source": [
    "# values for my  F1 \n",
    "valuesForGausF1 = np.array([gausAvgMetrics1[13], gausAvgMetrics2[13], gausAvgMetrics3[13], gausAvgMetrics4[13], gausAvgMetrics5[13]])\n",
    "valuesForMF1 = np.array([mNAvgMetrics1[13], mNAvgMetrics2[13] , mNAvgMetrics3[13] , mNAvgMetrics4[13] , mNAvgMetrics5[13]])\n",
    "# plotting my values for F1\n",
    "sns.boxplot(y=valuesForGausF1).set(title=\"Boxplot of F1 Scores for Gaussian Naive Bayes\")"
   ]
  },
  {
   "cell_type": "code",
   "execution_count": 21,
   "metadata": {},
   "outputs": [
    {
     "data": {
      "text/plain": [
       "[Text(0.5, 1.0, 'Boxplot of F1 Scores for Multinomial Naive Bayes')]"
      ]
     },
     "execution_count": 21,
     "metadata": {},
     "output_type": "execute_result"
    },
    {
     "data": {
      "image/png": "[encoded data removed]",
      "text/plain": [
       "<Figure size 432x288 with 1 Axes>"
      ]
     },
     "metadata": {
      "needs_background": "light"
     },
     "output_type": "display_data"
    }
   ],
   "source": [
    "sns.boxplot(y=valuesForMF1).set(title=\"Boxplot of F1 Scores for Multinomial Naive Bayes\")\n"
   ]
  },
  {
   "cell_type": "code",
   "execution_count": 25,
   "metadata": {},
   "outputs": [
    {
     "name": "stdout",
     "output_type": "stream",
     "text": [
      "0.1686641874844626\n",
      "0.0049997025930525\n",
      "0.07234114057139975\n",
      "0.006550176184839461\n"
     ]
    }
   ],
   "source": [
    "# print(np.sum(valuesForGausPrec) / 5)\n",
    "# print(np.sum(valuesForMPrec)/5)\n",
    "# print(np.sum(valuesForGausF1)/5)\n",
    "# print(np.sum(valuesForMF1)/5)\n",
    "print(np.std(valuesForGausPrec))\n",
    "print(np.std(valuesForMPrec))\n",
    "print(np.std(valuesForGausF1))\n",
    "print(np.std(valuesForMF1))"
   ]
  }
 ],
 "metadata": {
  "kernelspec": {
   "display_name": "Python 3.9.7 ('base')",
   "language": "python",
   "name": "python3"
  },
  "language_info": {
   "codemirror_mode": {
    "name": "ipython",
    "version": 3
   },
   "file_extension": ".py",
   "mimetype": "text/x-python",
   "name": "python",
   "nbconvert_exporter": "python",
   "pygments_lexer": "ipython3",
   "version": "3.9.7"
  },
  "orig_nbformat": 4,
  "vscode": {
   "interpreter": {
    "hash": "491294f3534386fe0fcbd8235206d2b0b6d1b48f0d67afb3243a4d29f0d7ffee"
   }
  }
 },
 "nbformat": 4,
 "nbformat_minor": 2
}
